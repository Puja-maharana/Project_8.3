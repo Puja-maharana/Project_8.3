{
 "cells": [
  {
   "cell_type": "code",
   "execution_count": 5,
   "id": "40e71b9e-0009-4cf1-a095-719c5aaf13f2",
   "metadata": {},
   "outputs": [],
   "source": [
    "#Consider following code to answer further questions:\n",
    "\n",
    "#import pandas as pd\n",
    "#course_name = [‘Data Science’, ‘Machine Learning’, ‘Big Data’, ‘Data Engineer’]\n",
    "#duration = [2,3,6,4]\n",
    "#df = pd.DataFrame(data = {‘course_name’ : course_name, ‘duration’ : duration})\n",
    "\n"
   ]
  },
  {
   "cell_type": "code",
   "execution_count": 6,
   "id": "3c7bb0cf-fc71-4ec4-bf44-5e3669302936",
   "metadata": {},
   "outputs": [],
   "source": [
    "#Q1. Write a code to print the data present in the second row of the dataframe, df."
   ]
  },
  {
   "cell_type": "code",
   "execution_count": 7,
   "id": "2eb2d19f-1a60-495b-a44d-9185e8a39f82",
   "metadata": {},
   "outputs": [],
   "source": [
    "import pandas as pd\n",
    "course_name = [\"Data Science\", \"Machine Learning\", \"Big Data\", \"Data Engineer\"]\n",
    "duration = [2,3,6,4]\n",
    "data = {\"course_name\" : course_name, \"duration\" : duration}\n",
    "df = pd.DataFrame(data)"
   ]
  },
  {
   "cell_type": "code",
   "execution_count": 8,
   "id": "ab9f07f4-2114-4220-8f8f-9f416ab0c71e",
   "metadata": {},
   "outputs": [
    {
     "data": {
      "text/html": [
       "<div>\n",
       "<style scoped>\n",
       "    .dataframe tbody tr th:only-of-type {\n",
       "        vertical-align: middle;\n",
       "    }\n",
       "\n",
       "    .dataframe tbody tr th {\n",
       "        vertical-align: top;\n",
       "    }\n",
       "\n",
       "    .dataframe thead th {\n",
       "        text-align: right;\n",
       "    }\n",
       "</style>\n",
       "<table border=\"1\" class=\"dataframe\">\n",
       "  <thead>\n",
       "    <tr style=\"text-align: right;\">\n",
       "      <th></th>\n",
       "      <th>course_name</th>\n",
       "      <th>duration</th>\n",
       "    </tr>\n",
       "  </thead>\n",
       "  <tbody>\n",
       "    <tr>\n",
       "      <th>0</th>\n",
       "      <td>Data Science</td>\n",
       "      <td>2</td>\n",
       "    </tr>\n",
       "    <tr>\n",
       "      <th>1</th>\n",
       "      <td>Machine Learning</td>\n",
       "      <td>3</td>\n",
       "    </tr>\n",
       "    <tr>\n",
       "      <th>2</th>\n",
       "      <td>Big Data</td>\n",
       "      <td>6</td>\n",
       "    </tr>\n",
       "    <tr>\n",
       "      <th>3</th>\n",
       "      <td>Data Engineer</td>\n",
       "      <td>4</td>\n",
       "    </tr>\n",
       "  </tbody>\n",
       "</table>\n",
       "</div>"
      ],
      "text/plain": [
       "        course_name  duration\n",
       "0      Data Science         2\n",
       "1  Machine Learning         3\n",
       "2          Big Data         6\n",
       "3     Data Engineer         4"
      ]
     },
     "execution_count": 8,
     "metadata": {},
     "output_type": "execute_result"
    }
   ],
   "source": [
    "df"
   ]
  },
  {
   "cell_type": "code",
   "execution_count": 9,
   "id": "dcf14af0-186d-4414-8118-91c7c0902a6b",
   "metadata": {},
   "outputs": [
    {
     "data": {
      "text/html": [
       "<div>\n",
       "<style scoped>\n",
       "    .dataframe tbody tr th:only-of-type {\n",
       "        vertical-align: middle;\n",
       "    }\n",
       "\n",
       "    .dataframe tbody tr th {\n",
       "        vertical-align: top;\n",
       "    }\n",
       "\n",
       "    .dataframe thead th {\n",
       "        text-align: right;\n",
       "    }\n",
       "</style>\n",
       "<table border=\"1\" class=\"dataframe\">\n",
       "  <thead>\n",
       "    <tr style=\"text-align: right;\">\n",
       "      <th></th>\n",
       "      <th>course_name</th>\n",
       "      <th>duration</th>\n",
       "    </tr>\n",
       "  </thead>\n",
       "  <tbody>\n",
       "    <tr>\n",
       "      <th>1</th>\n",
       "      <td>Machine Learning</td>\n",
       "      <td>3</td>\n",
       "    </tr>\n",
       "  </tbody>\n",
       "</table>\n",
       "</div>"
      ],
      "text/plain": [
       "        course_name  duration\n",
       "1  Machine Learning         3"
      ]
     },
     "execution_count": 9,
     "metadata": {},
     "output_type": "execute_result"
    }
   ],
   "source": [
    "\n",
    "#to print values present in 2nd row\n",
    "df.iloc[1:2]"
   ]
  },
  {
   "cell_type": "code",
   "execution_count": 10,
   "id": "a5e3474e-9011-45ed-9a53-d0a37b9d751c",
   "metadata": {},
   "outputs": [],
   "source": [
    "#Q2. What is the difference between the functions loc and iloc in pandas.DataFrame?\n",
    "#iloc: iloc is primarily used for integer-based indexing, allowing you to select rows and columns by their integer positions. It uses zero-based integer indexing, meaning the first row or column has the index 0, the second has index 1, and so on. The syntax for iloc is df.iloc [ row_index, column_index ] . You can use single integers, lists of integers, or slices to specify the rows and columns you want to select. the slicing takes upper limit - 1 value\n",
    "\n",
    "#loc: loc is used for label-based indexing, allowing you to select rows and columns by their labels or index names. It uses the actual row and column labels (not their integer positions) to perform the selection. The syntax for loc is df.loc[ row_label, column_label ]. You can use single labels, lists of labels, or slices to specify the rows and columns you want to select. the slicing takes upper limit value"
   ]
  },
  {
   "cell_type": "code",
   "execution_count": 11,
   "id": "d77dee34-3c0e-4e25-b6d7-9a7996d9cfb9",
   "metadata": {},
   "outputs": [
    {
     "data": {
      "text/html": [
       "<div>\n",
       "<style scoped>\n",
       "    .dataframe tbody tr th:only-of-type {\n",
       "        vertical-align: middle;\n",
       "    }\n",
       "\n",
       "    .dataframe tbody tr th {\n",
       "        vertical-align: top;\n",
       "    }\n",
       "\n",
       "    .dataframe thead th {\n",
       "        text-align: right;\n",
       "    }\n",
       "</style>\n",
       "<table border=\"1\" class=\"dataframe\">\n",
       "  <thead>\n",
       "    <tr style=\"text-align: right;\">\n",
       "      <th></th>\n",
       "      <th>course_name</th>\n",
       "      <th>duration</th>\n",
       "    </tr>\n",
       "  </thead>\n",
       "  <tbody>\n",
       "    <tr>\n",
       "      <th>0</th>\n",
       "      <td>Data Science</td>\n",
       "      <td>2</td>\n",
       "    </tr>\n",
       "    <tr>\n",
       "      <th>1</th>\n",
       "      <td>Machine Learning</td>\n",
       "      <td>3</td>\n",
       "    </tr>\n",
       "    <tr>\n",
       "      <th>2</th>\n",
       "      <td>Big Data</td>\n",
       "      <td>6</td>\n",
       "    </tr>\n",
       "  </tbody>\n",
       "</table>\n",
       "</div>"
      ],
      "text/plain": [
       "        course_name  duration\n",
       "0      Data Science         2\n",
       "1  Machine Learning         3\n",
       "2          Big Data         6"
      ]
     },
     "execution_count": 11,
     "metadata": {},
     "output_type": "execute_result"
    }
   ],
   "source": [
    "df.iloc[0:3]"
   ]
  },
  {
   "cell_type": "code",
   "execution_count": 12,
   "id": "78aa57a3-1603-4447-8796-a95008fd8f2e",
   "metadata": {},
   "outputs": [
    {
     "data": {
      "text/html": [
       "<div>\n",
       "<style scoped>\n",
       "    .dataframe tbody tr th:only-of-type {\n",
       "        vertical-align: middle;\n",
       "    }\n",
       "\n",
       "    .dataframe tbody tr th {\n",
       "        vertical-align: top;\n",
       "    }\n",
       "\n",
       "    .dataframe thead th {\n",
       "        text-align: right;\n",
       "    }\n",
       "</style>\n",
       "<table border=\"1\" class=\"dataframe\">\n",
       "  <thead>\n",
       "    <tr style=\"text-align: right;\">\n",
       "      <th></th>\n",
       "      <th>course_name</th>\n",
       "      <th>duration</th>\n",
       "    </tr>\n",
       "  </thead>\n",
       "  <tbody>\n",
       "    <tr>\n",
       "      <th>0</th>\n",
       "      <td>Data Science</td>\n",
       "      <td>2</td>\n",
       "    </tr>\n",
       "    <tr>\n",
       "      <th>1</th>\n",
       "      <td>Machine Learning</td>\n",
       "      <td>3</td>\n",
       "    </tr>\n",
       "    <tr>\n",
       "      <th>2</th>\n",
       "      <td>Big Data</td>\n",
       "      <td>6</td>\n",
       "    </tr>\n",
       "    <tr>\n",
       "      <th>3</th>\n",
       "      <td>Data Engineer</td>\n",
       "      <td>4</td>\n",
       "    </tr>\n",
       "  </tbody>\n",
       "</table>\n",
       "</div>"
      ],
      "text/plain": [
       "        course_name  duration\n",
       "0      Data Science         2\n",
       "1  Machine Learning         3\n",
       "2          Big Data         6\n",
       "3     Data Engineer         4"
      ]
     },
     "execution_count": 12,
     "metadata": {},
     "output_type": "execute_result"
    }
   ],
   "source": [
    "\n",
    "df.loc[0:3]"
   ]
  },
  {
   "cell_type": "code",
   "execution_count": 13,
   "id": "d844c802-8076-42fa-ac31-7852d8cbdee3",
   "metadata": {},
   "outputs": [
    {
     "data": {
      "text/html": [
       "<div>\n",
       "<style scoped>\n",
       "    .dataframe tbody tr th:only-of-type {\n",
       "        vertical-align: middle;\n",
       "    }\n",
       "\n",
       "    .dataframe tbody tr th {\n",
       "        vertical-align: top;\n",
       "    }\n",
       "\n",
       "    .dataframe thead th {\n",
       "        text-align: right;\n",
       "    }\n",
       "</style>\n",
       "<table border=\"1\" class=\"dataframe\">\n",
       "  <thead>\n",
       "    <tr style=\"text-align: right;\">\n",
       "      <th></th>\n",
       "      <th>course_name</th>\n",
       "    </tr>\n",
       "  </thead>\n",
       "  <tbody>\n",
       "    <tr>\n",
       "      <th>0</th>\n",
       "      <td>Data Science</td>\n",
       "    </tr>\n",
       "    <tr>\n",
       "      <th>1</th>\n",
       "      <td>Machine Learning</td>\n",
       "    </tr>\n",
       "    <tr>\n",
       "      <th>2</th>\n",
       "      <td>Big Data</td>\n",
       "    </tr>\n",
       "  </tbody>\n",
       "</table>\n",
       "</div>"
      ],
      "text/plain": [
       "        course_name\n",
       "0      Data Science\n",
       "1  Machine Learning\n",
       "2          Big Data"
      ]
     },
     "execution_count": 13,
     "metadata": {},
     "output_type": "execute_result"
    }
   ],
   "source": [
    "df.iloc[0:3,[0]]"
   ]
  },
  {
   "cell_type": "code",
   "execution_count": 14,
   "id": "3c8f0c06-ad1c-43ff-9319-3ed4a0b34f89",
   "metadata": {},
   "outputs": [
    {
     "data": {
      "text/html": [
       "<div>\n",
       "<style scoped>\n",
       "    .dataframe tbody tr th:only-of-type {\n",
       "        vertical-align: middle;\n",
       "    }\n",
       "\n",
       "    .dataframe tbody tr th {\n",
       "        vertical-align: top;\n",
       "    }\n",
       "\n",
       "    .dataframe thead th {\n",
       "        text-align: right;\n",
       "    }\n",
       "</style>\n",
       "<table border=\"1\" class=\"dataframe\">\n",
       "  <thead>\n",
       "    <tr style=\"text-align: right;\">\n",
       "      <th></th>\n",
       "      <th>course_name</th>\n",
       "    </tr>\n",
       "  </thead>\n",
       "  <tbody>\n",
       "    <tr>\n",
       "      <th>0</th>\n",
       "      <td>Data Science</td>\n",
       "    </tr>\n",
       "    <tr>\n",
       "      <th>1</th>\n",
       "      <td>Machine Learning</td>\n",
       "    </tr>\n",
       "    <tr>\n",
       "      <th>2</th>\n",
       "      <td>Big Data</td>\n",
       "    </tr>\n",
       "    <tr>\n",
       "      <th>3</th>\n",
       "      <td>Data Engineer</td>\n",
       "    </tr>\n",
       "  </tbody>\n",
       "</table>\n",
       "</div>"
      ],
      "text/plain": [
       "        course_name\n",
       "0      Data Science\n",
       "1  Machine Learning\n",
       "2          Big Data\n",
       "3     Data Engineer"
      ]
     },
     "execution_count": 14,
     "metadata": {},
     "output_type": "execute_result"
    }
   ],
   "source": [
    "\n",
    "df.loc[0:3,['course_name']]"
   ]
  },
  {
   "cell_type": "code",
   "execution_count": 15,
   "id": "a9c8b53b-e109-4807-8c61-cf8e66cede63",
   "metadata": {},
   "outputs": [],
   "source": [
    "#Q3. Reindex the given dataframe using a variable, reindex = [3,0,1,2] and store it in the variable, new_df then find the output for both new_df.loc[2] and new_df.iloc[2].\n",
    "#Did you observe any difference in both the outputs? If so then explain it.\n",
    "#Consider the below code to answer further questions:\n",
    "\n",
    "import pandas as pd\n",
    "import numpy as np\n",
    "columns = ['column_1', 'column_2', 'column_3', 'column_4', 'column_5', 'column_6']\n",
    "indices = [1,2,3,4,5,6]\n",
    "#Creating a dataframe:\n",
    "df1 = pd.DataFrame(np.random.rand(6,6), columns = columns, index = indices)\n",
    "\n"
   ]
  },
  {
   "cell_type": "code",
   "execution_count": 17,
   "id": "904e1dfd-4dc3-445e-9546-b3559375dbd6",
   "metadata": {},
   "outputs": [],
   "source": [
    "import pandas as pd\n",
    "import numpy as np\n",
    "columns = ['column_1', 'column_2', 'column_3', 'column_4', 'column_5', 'column_6']\n",
    "indices = [1,2,3,4,5,6]\n",
    "#Creating a dataframe:\n",
    "df1 = pd.DataFrame(np.random.rand(6,6), columns = columns, index = indices)"
   ]
  },
  {
   "cell_type": "code",
   "execution_count": 18,
   "id": "20dda751-ef28-46f7-9cfe-0212c3b96866",
   "metadata": {},
   "outputs": [
    {
     "data": {
      "text/html": [
       "<div>\n",
       "<style scoped>\n",
       "    .dataframe tbody tr th:only-of-type {\n",
       "        vertical-align: middle;\n",
       "    }\n",
       "\n",
       "    .dataframe tbody tr th {\n",
       "        vertical-align: top;\n",
       "    }\n",
       "\n",
       "    .dataframe thead th {\n",
       "        text-align: right;\n",
       "    }\n",
       "</style>\n",
       "<table border=\"1\" class=\"dataframe\">\n",
       "  <thead>\n",
       "    <tr style=\"text-align: right;\">\n",
       "      <th></th>\n",
       "      <th>column_1</th>\n",
       "      <th>column_2</th>\n",
       "      <th>column_3</th>\n",
       "      <th>column_4</th>\n",
       "      <th>column_5</th>\n",
       "      <th>column_6</th>\n",
       "    </tr>\n",
       "  </thead>\n",
       "  <tbody>\n",
       "    <tr>\n",
       "      <th>1</th>\n",
       "      <td>0.911742</td>\n",
       "      <td>0.298912</td>\n",
       "      <td>0.531646</td>\n",
       "      <td>0.752207</td>\n",
       "      <td>0.858964</td>\n",
       "      <td>0.301520</td>\n",
       "    </tr>\n",
       "    <tr>\n",
       "      <th>2</th>\n",
       "      <td>0.966826</td>\n",
       "      <td>0.157887</td>\n",
       "      <td>0.626309</td>\n",
       "      <td>0.408813</td>\n",
       "      <td>0.415219</td>\n",
       "      <td>0.915270</td>\n",
       "    </tr>\n",
       "    <tr>\n",
       "      <th>3</th>\n",
       "      <td>0.566075</td>\n",
       "      <td>0.128610</td>\n",
       "      <td>0.639662</td>\n",
       "      <td>0.339372</td>\n",
       "      <td>0.104308</td>\n",
       "      <td>0.276443</td>\n",
       "    </tr>\n",
       "    <tr>\n",
       "      <th>4</th>\n",
       "      <td>0.258422</td>\n",
       "      <td>0.086340</td>\n",
       "      <td>0.207399</td>\n",
       "      <td>0.800825</td>\n",
       "      <td>0.201666</td>\n",
       "      <td>0.577490</td>\n",
       "    </tr>\n",
       "    <tr>\n",
       "      <th>5</th>\n",
       "      <td>0.928539</td>\n",
       "      <td>0.137033</td>\n",
       "      <td>0.604739</td>\n",
       "      <td>0.972780</td>\n",
       "      <td>0.874485</td>\n",
       "      <td>0.852043</td>\n",
       "    </tr>\n",
       "    <tr>\n",
       "      <th>6</th>\n",
       "      <td>0.461497</td>\n",
       "      <td>0.970183</td>\n",
       "      <td>0.995966</td>\n",
       "      <td>0.073790</td>\n",
       "      <td>0.274450</td>\n",
       "      <td>0.549326</td>\n",
       "    </tr>\n",
       "  </tbody>\n",
       "</table>\n",
       "</div>"
      ],
      "text/plain": [
       "   column_1  column_2  column_3  column_4  column_5  column_6\n",
       "1  0.911742  0.298912  0.531646  0.752207  0.858964  0.301520\n",
       "2  0.966826  0.157887  0.626309  0.408813  0.415219  0.915270\n",
       "3  0.566075  0.128610  0.639662  0.339372  0.104308  0.276443\n",
       "4  0.258422  0.086340  0.207399  0.800825  0.201666  0.577490\n",
       "5  0.928539  0.137033  0.604739  0.972780  0.874485  0.852043\n",
       "6  0.461497  0.970183  0.995966  0.073790  0.274450  0.549326"
      ]
     },
     "execution_count": 18,
     "metadata": {},
     "output_type": "execute_result"
    }
   ],
   "source": [
    "df1"
   ]
  },
  {
   "cell_type": "code",
   "execution_count": 19,
   "id": "6eabaa0c-6cba-46ce-820e-cefacd793d1c",
   "metadata": {},
   "outputs": [],
   "source": [
    "reindex = [3,0,1,2]\n",
    "new_df = df1.reindex(reindex)\n"
   ]
  },
  {
   "cell_type": "code",
   "execution_count": 20,
   "id": "8454f73a-495a-4047-abd6-bc6c9bee952f",
   "metadata": {},
   "outputs": [
    {
     "data": {
      "text/html": [
       "<div>\n",
       "<style scoped>\n",
       "    .dataframe tbody tr th:only-of-type {\n",
       "        vertical-align: middle;\n",
       "    }\n",
       "\n",
       "    .dataframe tbody tr th {\n",
       "        vertical-align: top;\n",
       "    }\n",
       "\n",
       "    .dataframe thead th {\n",
       "        text-align: right;\n",
       "    }\n",
       "</style>\n",
       "<table border=\"1\" class=\"dataframe\">\n",
       "  <thead>\n",
       "    <tr style=\"text-align: right;\">\n",
       "      <th></th>\n",
       "      <th>column_1</th>\n",
       "      <th>column_2</th>\n",
       "      <th>column_3</th>\n",
       "      <th>column_4</th>\n",
       "      <th>column_5</th>\n",
       "      <th>column_6</th>\n",
       "    </tr>\n",
       "  </thead>\n",
       "  <tbody>\n",
       "    <tr>\n",
       "      <th>3</th>\n",
       "      <td>0.566075</td>\n",
       "      <td>0.128610</td>\n",
       "      <td>0.639662</td>\n",
       "      <td>0.339372</td>\n",
       "      <td>0.104308</td>\n",
       "      <td>0.276443</td>\n",
       "    </tr>\n",
       "    <tr>\n",
       "      <th>0</th>\n",
       "      <td>NaN</td>\n",
       "      <td>NaN</td>\n",
       "      <td>NaN</td>\n",
       "      <td>NaN</td>\n",
       "      <td>NaN</td>\n",
       "      <td>NaN</td>\n",
       "    </tr>\n",
       "    <tr>\n",
       "      <th>1</th>\n",
       "      <td>0.911742</td>\n",
       "      <td>0.298912</td>\n",
       "      <td>0.531646</td>\n",
       "      <td>0.752207</td>\n",
       "      <td>0.858964</td>\n",
       "      <td>0.301520</td>\n",
       "    </tr>\n",
       "    <tr>\n",
       "      <th>2</th>\n",
       "      <td>0.966826</td>\n",
       "      <td>0.157887</td>\n",
       "      <td>0.626309</td>\n",
       "      <td>0.408813</td>\n",
       "      <td>0.415219</td>\n",
       "      <td>0.915270</td>\n",
       "    </tr>\n",
       "  </tbody>\n",
       "</table>\n",
       "</div>"
      ],
      "text/plain": [
       "   column_1  column_2  column_3  column_4  column_5  column_6\n",
       "3  0.566075  0.128610  0.639662  0.339372  0.104308  0.276443\n",
       "0       NaN       NaN       NaN       NaN       NaN       NaN\n",
       "1  0.911742  0.298912  0.531646  0.752207  0.858964  0.301520\n",
       "2  0.966826  0.157887  0.626309  0.408813  0.415219  0.915270"
      ]
     },
     "execution_count": 20,
     "metadata": {},
     "output_type": "execute_result"
    }
   ],
   "source": [
    "\n",
    "new_df"
   ]
  },
  {
   "cell_type": "code",
   "execution_count": 21,
   "id": "c898f39e-5534-4a60-99c7-c6f3dd10f890",
   "metadata": {},
   "outputs": [
    {
     "data": {
      "text/plain": [
       "column_1    0.966826\n",
       "column_2    0.157887\n",
       "column_3    0.626309\n",
       "column_4    0.408813\n",
       "column_5    0.415219\n",
       "column_6    0.915270\n",
       "Name: 2, dtype: float64"
      ]
     },
     "execution_count": 21,
     "metadata": {},
     "output_type": "execute_result"
    }
   ],
   "source": [
    "new_df.loc[2]"
   ]
  },
  {
   "cell_type": "code",
   "execution_count": 22,
   "id": "d4c2cfac-3d25-4504-9faa-167173782060",
   "metadata": {},
   "outputs": [
    {
     "data": {
      "text/plain": [
       "column_1    0.911742\n",
       "column_2    0.298912\n",
       "column_3    0.531646\n",
       "column_4    0.752207\n",
       "column_5    0.858964\n",
       "column_6    0.301520\n",
       "Name: 1, dtype: float64"
      ]
     },
     "execution_count": 22,
     "metadata": {},
     "output_type": "execute_result"
    }
   ],
   "source": [
    "new_df.iloc[2]"
   ]
  },
  {
   "cell_type": "code",
   "execution_count": 23,
   "id": "93cb921b-03b4-4afc-9ab3-ae8dd5efcbe5",
   "metadata": {},
   "outputs": [
    {
     "data": {
      "text/html": [
       "<div>\n",
       "<style scoped>\n",
       "    .dataframe tbody tr th:only-of-type {\n",
       "        vertical-align: middle;\n",
       "    }\n",
       "\n",
       "    .dataframe tbody tr th {\n",
       "        vertical-align: top;\n",
       "    }\n",
       "\n",
       "    .dataframe thead th {\n",
       "        text-align: right;\n",
       "    }\n",
       "</style>\n",
       "<table border=\"1\" class=\"dataframe\">\n",
       "  <thead>\n",
       "    <tr style=\"text-align: right;\">\n",
       "      <th></th>\n",
       "      <th>2</th>\n",
       "    </tr>\n",
       "  </thead>\n",
       "  <tbody>\n",
       "    <tr>\n",
       "      <th>column_1</th>\n",
       "      <td>0.966826</td>\n",
       "    </tr>\n",
       "    <tr>\n",
       "      <th>column_2</th>\n",
       "      <td>0.157887</td>\n",
       "    </tr>\n",
       "    <tr>\n",
       "      <th>column_3</th>\n",
       "      <td>0.626309</td>\n",
       "    </tr>\n",
       "    <tr>\n",
       "      <th>column_4</th>\n",
       "      <td>0.408813</td>\n",
       "    </tr>\n",
       "    <tr>\n",
       "      <th>column_5</th>\n",
       "      <td>0.415219</td>\n",
       "    </tr>\n",
       "    <tr>\n",
       "      <th>column_6</th>\n",
       "      <td>0.915270</td>\n",
       "    </tr>\n",
       "  </tbody>\n",
       "</table>\n",
       "</div>"
      ],
      "text/plain": [
       "                 2\n",
       "column_1  0.966826\n",
       "column_2  0.157887\n",
       "column_3  0.626309\n",
       "column_4  0.408813\n",
       "column_5  0.415219\n",
       "column_6  0.915270"
      ]
     },
     "execution_count": 23,
     "metadata": {},
     "output_type": "execute_result"
    }
   ],
   "source": [
    "\n",
    "pd.DataFrame(new_df.loc[2])"
   ]
  },
  {
   "cell_type": "code",
   "execution_count": 24,
   "id": "5f2847c8-2511-4b2c-819b-b870e2d235c9",
   "metadata": {},
   "outputs": [
    {
     "data": {
      "text/html": [
       "<div>\n",
       "<style scoped>\n",
       "    .dataframe tbody tr th:only-of-type {\n",
       "        vertical-align: middle;\n",
       "    }\n",
       "\n",
       "    .dataframe tbody tr th {\n",
       "        vertical-align: top;\n",
       "    }\n",
       "\n",
       "    .dataframe thead th {\n",
       "        text-align: right;\n",
       "    }\n",
       "</style>\n",
       "<table border=\"1\" class=\"dataframe\">\n",
       "  <thead>\n",
       "    <tr style=\"text-align: right;\">\n",
       "      <th></th>\n",
       "      <th>1</th>\n",
       "    </tr>\n",
       "  </thead>\n",
       "  <tbody>\n",
       "    <tr>\n",
       "      <th>column_1</th>\n",
       "      <td>0.911742</td>\n",
       "    </tr>\n",
       "    <tr>\n",
       "      <th>column_2</th>\n",
       "      <td>0.298912</td>\n",
       "    </tr>\n",
       "    <tr>\n",
       "      <th>column_3</th>\n",
       "      <td>0.531646</td>\n",
       "    </tr>\n",
       "    <tr>\n",
       "      <th>column_4</th>\n",
       "      <td>0.752207</td>\n",
       "    </tr>\n",
       "    <tr>\n",
       "      <th>column_5</th>\n",
       "      <td>0.858964</td>\n",
       "    </tr>\n",
       "    <tr>\n",
       "      <th>column_6</th>\n",
       "      <td>0.301520</td>\n",
       "    </tr>\n",
       "  </tbody>\n",
       "</table>\n",
       "</div>"
      ],
      "text/plain": [
       "                 1\n",
       "column_1  0.911742\n",
       "column_2  0.298912\n",
       "column_3  0.531646\n",
       "column_4  0.752207\n",
       "column_5  0.858964\n",
       "column_6  0.301520"
      ]
     },
     "execution_count": 24,
     "metadata": {},
     "output_type": "execute_result"
    }
   ],
   "source": [
    "pd.DataFrame(new_df.iloc[2])"
   ]
  },
  {
   "cell_type": "code",
   "execution_count": 25,
   "id": "7aee0545-baaa-44f0-aacf-c5dd057f5ea4",
   "metadata": {},
   "outputs": [],
   "source": [
    "#Q4. Write a code to find the following statistical measurements for the above dataframe df1:\n",
    "#(i) mean of each and every column present in the dataframe.\n",
    "#(ii) standard deviation of column, ‘column_2’"
   ]
  },
  {
   "cell_type": "code",
   "execution_count": 26,
   "id": "f8780fa9-48ad-4f9e-8ee1-cf9eedd32a35",
   "metadata": {},
   "outputs": [
    {
     "data": {
      "text/html": [
       "<div>\n",
       "<style scoped>\n",
       "    .dataframe tbody tr th:only-of-type {\n",
       "        vertical-align: middle;\n",
       "    }\n",
       "\n",
       "    .dataframe tbody tr th {\n",
       "        vertical-align: top;\n",
       "    }\n",
       "\n",
       "    .dataframe thead th {\n",
       "        text-align: right;\n",
       "    }\n",
       "</style>\n",
       "<table border=\"1\" class=\"dataframe\">\n",
       "  <thead>\n",
       "    <tr style=\"text-align: right;\">\n",
       "      <th></th>\n",
       "      <th>column_1</th>\n",
       "      <th>column_2</th>\n",
       "      <th>column_3</th>\n",
       "      <th>column_4</th>\n",
       "      <th>column_5</th>\n",
       "      <th>column_6</th>\n",
       "    </tr>\n",
       "  </thead>\n",
       "  <tbody>\n",
       "    <tr>\n",
       "      <th>count</th>\n",
       "      <td>6.000000</td>\n",
       "      <td>6.000000</td>\n",
       "      <td>6.000000</td>\n",
       "      <td>6.000000</td>\n",
       "      <td>6.000000</td>\n",
       "      <td>6.000000</td>\n",
       "    </tr>\n",
       "    <tr>\n",
       "      <th>mean</th>\n",
       "      <td>0.682184</td>\n",
       "      <td>0.296494</td>\n",
       "      <td>0.600953</td>\n",
       "      <td>0.557964</td>\n",
       "      <td>0.454848</td>\n",
       "      <td>0.578682</td>\n",
       "    </tr>\n",
       "    <tr>\n",
       "      <th>std</th>\n",
       "      <td>0.295353</td>\n",
       "      <td>0.337891</td>\n",
       "      <td>0.252142</td>\n",
       "      <td>0.338596</td>\n",
       "      <td>0.334813</td>\n",
       "      <td>0.267226</td>\n",
       "    </tr>\n",
       "    <tr>\n",
       "      <th>min</th>\n",
       "      <td>0.258422</td>\n",
       "      <td>0.086340</td>\n",
       "      <td>0.207399</td>\n",
       "      <td>0.073790</td>\n",
       "      <td>0.104308</td>\n",
       "      <td>0.276443</td>\n",
       "    </tr>\n",
       "    <tr>\n",
       "      <th>25%</th>\n",
       "      <td>0.487641</td>\n",
       "      <td>0.130716</td>\n",
       "      <td>0.549919</td>\n",
       "      <td>0.356732</td>\n",
       "      <td>0.219862</td>\n",
       "      <td>0.363471</td>\n",
       "    </tr>\n",
       "    <tr>\n",
       "      <th>50%</th>\n",
       "      <td>0.738909</td>\n",
       "      <td>0.147460</td>\n",
       "      <td>0.615524</td>\n",
       "      <td>0.580510</td>\n",
       "      <td>0.344834</td>\n",
       "      <td>0.563408</td>\n",
       "    </tr>\n",
       "    <tr>\n",
       "      <th>75%</th>\n",
       "      <td>0.924340</td>\n",
       "      <td>0.263656</td>\n",
       "      <td>0.636324</td>\n",
       "      <td>0.788670</td>\n",
       "      <td>0.748028</td>\n",
       "      <td>0.783405</td>\n",
       "    </tr>\n",
       "    <tr>\n",
       "      <th>max</th>\n",
       "      <td>0.966826</td>\n",
       "      <td>0.970183</td>\n",
       "      <td>0.995966</td>\n",
       "      <td>0.972780</td>\n",
       "      <td>0.874485</td>\n",
       "      <td>0.915270</td>\n",
       "    </tr>\n",
       "  </tbody>\n",
       "</table>\n",
       "</div>"
      ],
      "text/plain": [
       "       column_1  column_2  column_3  column_4  column_5  column_6\n",
       "count  6.000000  6.000000  6.000000  6.000000  6.000000  6.000000\n",
       "mean   0.682184  0.296494  0.600953  0.557964  0.454848  0.578682\n",
       "std    0.295353  0.337891  0.252142  0.338596  0.334813  0.267226\n",
       "min    0.258422  0.086340  0.207399  0.073790  0.104308  0.276443\n",
       "25%    0.487641  0.130716  0.549919  0.356732  0.219862  0.363471\n",
       "50%    0.738909  0.147460  0.615524  0.580510  0.344834  0.563408\n",
       "75%    0.924340  0.263656  0.636324  0.788670  0.748028  0.783405\n",
       "max    0.966826  0.970183  0.995966  0.972780  0.874485  0.915270"
      ]
     },
     "execution_count": 26,
     "metadata": {},
     "output_type": "execute_result"
    }
   ],
   "source": [
    "\n",
    "df1.describe()"
   ]
  },
  {
   "cell_type": "code",
   "execution_count": 27,
   "id": "1dfc9992-0e01-4fa8-adb7-0839ba189215",
   "metadata": {},
   "outputs": [
    {
     "data": {
      "text/plain": [
       "column_1    0.682184\n",
       "column_2    0.296494\n",
       "column_3    0.600953\n",
       "column_4    0.557964\n",
       "column_5    0.454848\n",
       "column_6    0.578682\n",
       "dtype: float64"
      ]
     },
     "execution_count": 27,
     "metadata": {},
     "output_type": "execute_result"
    }
   ],
   "source": [
    "\n",
    "df1.mean()"
   ]
  },
  {
   "cell_type": "code",
   "execution_count": 28,
   "id": "a7bf7f70-2d11-402d-9c5f-60723d5fc7d4",
   "metadata": {},
   "outputs": [
    {
     "data": {
      "text/plain": [
       "column_1    0.295353\n",
       "column_2    0.337891\n",
       "dtype: float64"
      ]
     },
     "execution_count": 28,
     "metadata": {},
     "output_type": "execute_result"
    }
   ],
   "source": [
    "df1[['column_1','column_2']].std()"
   ]
  },
  {
   "cell_type": "code",
   "execution_count": 29,
   "id": "1388877f-cfe6-494b-b4d1-270050ca816e",
   "metadata": {},
   "outputs": [
    {
     "data": {
      "text/html": [
       "<div>\n",
       "<style scoped>\n",
       "    .dataframe tbody tr th:only-of-type {\n",
       "        vertical-align: middle;\n",
       "    }\n",
       "\n",
       "    .dataframe tbody tr th {\n",
       "        vertical-align: top;\n",
       "    }\n",
       "\n",
       "    .dataframe thead th {\n",
       "        text-align: right;\n",
       "    }\n",
       "</style>\n",
       "<table border=\"1\" class=\"dataframe\">\n",
       "  <thead>\n",
       "    <tr style=\"text-align: right;\">\n",
       "      <th></th>\n",
       "      <th>0</th>\n",
       "    </tr>\n",
       "  </thead>\n",
       "  <tbody>\n",
       "    <tr>\n",
       "      <th>column_1</th>\n",
       "      <td>0.295353</td>\n",
       "    </tr>\n",
       "    <tr>\n",
       "      <th>column_2</th>\n",
       "      <td>0.337891</td>\n",
       "    </tr>\n",
       "  </tbody>\n",
       "</table>\n",
       "</div>"
      ],
      "text/plain": [
       "                 0\n",
       "column_1  0.295353\n",
       "column_2  0.337891"
      ]
     },
     "execution_count": 29,
     "metadata": {},
     "output_type": "execute_result"
    }
   ],
   "source": [
    "pd.DataFrame(df1[['column_1','column_2']].std())"
   ]
  },
  {
   "cell_type": "code",
   "execution_count": 30,
   "id": "ff0253b1-d945-4e4b-abd3-97790a2d11c6",
   "metadata": {},
   "outputs": [],
   "source": [
    "#Q5. Replace the data present in the second row of column, ‘column_2’ by a string variable then find the mean of column, column_2. If you are getting errors in executing it then explain why.\n",
    "#[Hint: To replace the data use df1.loc[] and equate this to string data of your choice.]"
   ]
  },
  {
   "cell_type": "code",
   "execution_count": 31,
   "id": "6b768b42-8f2a-4ff3-a92c-d631d03c03b8",
   "metadata": {},
   "outputs": [
    {
     "data": {
      "text/html": [
       "<div>\n",
       "<style scoped>\n",
       "    .dataframe tbody tr th:only-of-type {\n",
       "        vertical-align: middle;\n",
       "    }\n",
       "\n",
       "    .dataframe tbody tr th {\n",
       "        vertical-align: top;\n",
       "    }\n",
       "\n",
       "    .dataframe thead th {\n",
       "        text-align: right;\n",
       "    }\n",
       "</style>\n",
       "<table border=\"1\" class=\"dataframe\">\n",
       "  <thead>\n",
       "    <tr style=\"text-align: right;\">\n",
       "      <th></th>\n",
       "      <th>column_1</th>\n",
       "      <th>column_2</th>\n",
       "      <th>column_3</th>\n",
       "      <th>column_4</th>\n",
       "      <th>column_5</th>\n",
       "      <th>column_6</th>\n",
       "    </tr>\n",
       "  </thead>\n",
       "  <tbody>\n",
       "    <tr>\n",
       "      <th>1</th>\n",
       "      <td>0.911742</td>\n",
       "      <td>0.298912</td>\n",
       "      <td>0.531646</td>\n",
       "      <td>0.752207</td>\n",
       "      <td>0.858964</td>\n",
       "      <td>0.301520</td>\n",
       "    </tr>\n",
       "    <tr>\n",
       "      <th>2</th>\n",
       "      <td>0.966826</td>\n",
       "      <td>0.157887</td>\n",
       "      <td>0.626309</td>\n",
       "      <td>0.408813</td>\n",
       "      <td>0.415219</td>\n",
       "      <td>0.915270</td>\n",
       "    </tr>\n",
       "    <tr>\n",
       "      <th>3</th>\n",
       "      <td>0.566075</td>\n",
       "      <td>0.128610</td>\n",
       "      <td>0.639662</td>\n",
       "      <td>0.339372</td>\n",
       "      <td>0.104308</td>\n",
       "      <td>0.276443</td>\n",
       "    </tr>\n",
       "    <tr>\n",
       "      <th>4</th>\n",
       "      <td>0.258422</td>\n",
       "      <td>0.086340</td>\n",
       "      <td>0.207399</td>\n",
       "      <td>0.800825</td>\n",
       "      <td>0.201666</td>\n",
       "      <td>0.577490</td>\n",
       "    </tr>\n",
       "    <tr>\n",
       "      <th>5</th>\n",
       "      <td>0.928539</td>\n",
       "      <td>0.137033</td>\n",
       "      <td>0.604739</td>\n",
       "      <td>0.972780</td>\n",
       "      <td>0.874485</td>\n",
       "      <td>0.852043</td>\n",
       "    </tr>\n",
       "    <tr>\n",
       "      <th>6</th>\n",
       "      <td>0.461497</td>\n",
       "      <td>0.970183</td>\n",
       "      <td>0.995966</td>\n",
       "      <td>0.073790</td>\n",
       "      <td>0.274450</td>\n",
       "      <td>0.549326</td>\n",
       "    </tr>\n",
       "  </tbody>\n",
       "</table>\n",
       "</div>"
      ],
      "text/plain": [
       "   column_1  column_2  column_3  column_4  column_5  column_6\n",
       "1  0.911742  0.298912  0.531646  0.752207  0.858964  0.301520\n",
       "2  0.966826  0.157887  0.626309  0.408813  0.415219  0.915270\n",
       "3  0.566075  0.128610  0.639662  0.339372  0.104308  0.276443\n",
       "4  0.258422  0.086340  0.207399  0.800825  0.201666  0.577490\n",
       "5  0.928539  0.137033  0.604739  0.972780  0.874485  0.852043\n",
       "6  0.461497  0.970183  0.995966  0.073790  0.274450  0.549326"
      ]
     },
     "execution_count": 31,
     "metadata": {},
     "output_type": "execute_result"
    }
   ],
   "source": [
    "df1"
   ]
  },
  {
   "cell_type": "code",
   "execution_count": 32,
   "id": "29f1a104-da96-4a41-ac6c-ebec02617758",
   "metadata": {},
   "outputs": [
    {
     "data": {
      "text/plain": [
       "column_1    0.966826\n",
       "column_2    0.157887\n",
       "Name: 2, dtype: float64"
      ]
     },
     "execution_count": 32,
     "metadata": {},
     "output_type": "execute_result"
    }
   ],
   "source": [
    "\n",
    "df1.iloc[1,0:2] "
   ]
  },
  {
   "cell_type": "code",
   "execution_count": 33,
   "id": "421474be-8370-4398-b41e-ed746ed6abc5",
   "metadata": {},
   "outputs": [],
   "source": [
    "\n",
    "df1.iloc[1,0:2] = \"dani\""
   ]
  },
  {
   "cell_type": "code",
   "execution_count": 34,
   "id": "fa60729e-a47e-4614-bbea-73d38be0f2de",
   "metadata": {},
   "outputs": [
    {
     "data": {
      "text/html": [
       "<div>\n",
       "<style scoped>\n",
       "    .dataframe tbody tr th:only-of-type {\n",
       "        vertical-align: middle;\n",
       "    }\n",
       "\n",
       "    .dataframe tbody tr th {\n",
       "        vertical-align: top;\n",
       "    }\n",
       "\n",
       "    .dataframe thead th {\n",
       "        text-align: right;\n",
       "    }\n",
       "</style>\n",
       "<table border=\"1\" class=\"dataframe\">\n",
       "  <thead>\n",
       "    <tr style=\"text-align: right;\">\n",
       "      <th></th>\n",
       "      <th>column_1</th>\n",
       "      <th>column_2</th>\n",
       "      <th>column_3</th>\n",
       "      <th>column_4</th>\n",
       "      <th>column_5</th>\n",
       "      <th>column_6</th>\n",
       "    </tr>\n",
       "  </thead>\n",
       "  <tbody>\n",
       "    <tr>\n",
       "      <th>1</th>\n",
       "      <td>0.911742</td>\n",
       "      <td>0.298912</td>\n",
       "      <td>0.531646</td>\n",
       "      <td>0.752207</td>\n",
       "      <td>0.858964</td>\n",
       "      <td>0.301520</td>\n",
       "    </tr>\n",
       "    <tr>\n",
       "      <th>2</th>\n",
       "      <td>dani</td>\n",
       "      <td>dani</td>\n",
       "      <td>0.626309</td>\n",
       "      <td>0.408813</td>\n",
       "      <td>0.415219</td>\n",
       "      <td>0.915270</td>\n",
       "    </tr>\n",
       "    <tr>\n",
       "      <th>3</th>\n",
       "      <td>0.566075</td>\n",
       "      <td>0.12861</td>\n",
       "      <td>0.639662</td>\n",
       "      <td>0.339372</td>\n",
       "      <td>0.104308</td>\n",
       "      <td>0.276443</td>\n",
       "    </tr>\n",
       "    <tr>\n",
       "      <th>4</th>\n",
       "      <td>0.258422</td>\n",
       "      <td>0.08634</td>\n",
       "      <td>0.207399</td>\n",
       "      <td>0.800825</td>\n",
       "      <td>0.201666</td>\n",
       "      <td>0.577490</td>\n",
       "    </tr>\n",
       "    <tr>\n",
       "      <th>5</th>\n",
       "      <td>0.928539</td>\n",
       "      <td>0.137033</td>\n",
       "      <td>0.604739</td>\n",
       "      <td>0.972780</td>\n",
       "      <td>0.874485</td>\n",
       "      <td>0.852043</td>\n",
       "    </tr>\n",
       "    <tr>\n",
       "      <th>6</th>\n",
       "      <td>0.461497</td>\n",
       "      <td>0.970183</td>\n",
       "      <td>0.995966</td>\n",
       "      <td>0.073790</td>\n",
       "      <td>0.274450</td>\n",
       "      <td>0.549326</td>\n",
       "    </tr>\n",
       "  </tbody>\n",
       "</table>\n",
       "</div>"
      ],
      "text/plain": [
       "   column_1  column_2  column_3  column_4  column_5  column_6\n",
       "1  0.911742  0.298912  0.531646  0.752207  0.858964  0.301520\n",
       "2      dani      dani  0.626309  0.408813  0.415219  0.915270\n",
       "3  0.566075   0.12861  0.639662  0.339372  0.104308  0.276443\n",
       "4  0.258422   0.08634  0.207399  0.800825  0.201666  0.577490\n",
       "5  0.928539  0.137033  0.604739  0.972780  0.874485  0.852043\n",
       "6  0.461497  0.970183  0.995966  0.073790  0.274450  0.549326"
      ]
     },
     "execution_count": 34,
     "metadata": {},
     "output_type": "execute_result"
    }
   ],
   "source": [
    "df1"
   ]
  },
  {
   "cell_type": "code",
   "execution_count": 35,
   "id": "4858d59b-ae4a-4216-82fe-8c0d4f1fdc77",
   "metadata": {},
   "outputs": [
    {
     "data": {
      "text/html": [
       "<div>\n",
       "<style scoped>\n",
       "    .dataframe tbody tr th:only-of-type {\n",
       "        vertical-align: middle;\n",
       "    }\n",
       "\n",
       "    .dataframe tbody tr th {\n",
       "        vertical-align: top;\n",
       "    }\n",
       "\n",
       "    .dataframe thead th {\n",
       "        text-align: right;\n",
       "    }\n",
       "</style>\n",
       "<table border=\"1\" class=\"dataframe\">\n",
       "  <thead>\n",
       "    <tr style=\"text-align: right;\">\n",
       "      <th></th>\n",
       "      <th>column_1</th>\n",
       "      <th>column_2</th>\n",
       "    </tr>\n",
       "  </thead>\n",
       "  <tbody>\n",
       "    <tr>\n",
       "      <th>1</th>\n",
       "      <td>0.911742</td>\n",
       "      <td>0.298912</td>\n",
       "    </tr>\n",
       "    <tr>\n",
       "      <th>2</th>\n",
       "      <td>dani</td>\n",
       "      <td>dani</td>\n",
       "    </tr>\n",
       "    <tr>\n",
       "      <th>3</th>\n",
       "      <td>0.566075</td>\n",
       "      <td>0.12861</td>\n",
       "    </tr>\n",
       "    <tr>\n",
       "      <th>4</th>\n",
       "      <td>0.258422</td>\n",
       "      <td>0.08634</td>\n",
       "    </tr>\n",
       "    <tr>\n",
       "      <th>5</th>\n",
       "      <td>0.928539</td>\n",
       "      <td>0.137033</td>\n",
       "    </tr>\n",
       "    <tr>\n",
       "      <th>6</th>\n",
       "      <td>0.461497</td>\n",
       "      <td>0.970183</td>\n",
       "    </tr>\n",
       "  </tbody>\n",
       "</table>\n",
       "</div>"
      ],
      "text/plain": [
       "   column_1  column_2\n",
       "1  0.911742  0.298912\n",
       "2      dani      dani\n",
       "3  0.566075   0.12861\n",
       "4  0.258422   0.08634\n",
       "5  0.928539  0.137033\n",
       "6  0.461497  0.970183"
      ]
     },
     "execution_count": 35,
     "metadata": {},
     "output_type": "execute_result"
    }
   ],
   "source": [
    "df1.loc[:,[\"column_1\",\"column_2\"]]"
   ]
  },
  {
   "cell_type": "code",
   "execution_count": 36,
   "id": "27081c92-4b6b-4ace-a739-35c80adfeb99",
   "metadata": {},
   "outputs": [
    {
     "name": "stderr",
     "output_type": "stream",
     "text": [
      "/tmp/ipykernel_2557/374022466.py:1: FutureWarning: The default value of numeric_only in DataFrame.mean is deprecated. In a future version, it will default to False. In addition, specifying 'numeric_only=None' is deprecated. Select only valid columns or specify the value of numeric_only to silence this warning.\n",
      "  df1.loc[:,[\"column_1\",\"column_2\"]].mean()\n"
     ]
    },
    {
     "data": {
      "text/plain": [
       "Series([], dtype: float64)"
      ]
     },
     "execution_count": 36,
     "metadata": {},
     "output_type": "execute_result"
    }
   ],
   "source": [
    "df1.loc[:,[\"column_1\",\"column_2\"]].mean()"
   ]
  },
  {
   "cell_type": "code",
   "execution_count": 37,
   "id": "e0e22b37-e7f9-439e-b9aa-6b28a1819d28",
   "metadata": {},
   "outputs": [
    {
     "name": "stdout",
     "output_type": "stream",
     "text": [
      "The error is : \n",
      "\n",
      "The default value of numeric_only in DataFrame.mean is deprecated. In a future version, it will default to False. In addition, specifying 'numeric_only=None' is deprecated. Select only valid columns or specify the value of numeric_only to silence this warning. df1.loc[:,['column_1','column_2']].mean()\n"
     ]
    }
   ],
   "source": [
    "print(\"The error is : \\n\")\n",
    "print(\"The default value of numeric_only in DataFrame.mean is deprecated. In a future version, it will default to False. In addition, specifying 'numeric_only=None' is deprecated. Select only valid columns or specify the value of numeric_only to silence this warning. df1.loc[:,['column_1','column_2']].mean()\")"
   ]
  },
  {
   "cell_type": "code",
   "execution_count": 40,
   "id": "7abf8492-e349-4c17-892c-fa873c6c4179",
   "metadata": {},
   "outputs": [],
   "source": [
    "#Q7. Write a code to print only the current month and year at the time of answering this question.\n",
    " #[Hint: Use pandas.datetime function]"
   ]
  },
  {
   "cell_type": "code",
   "execution_count": 41,
   "id": "a756bd4c-c33d-467e-bebc-968bb84be8eb",
   "metadata": {},
   "outputs": [],
   "source": [
    "\n",
    "current = pd.Timestamp.now()"
   ]
  },
  {
   "cell_type": "code",
   "execution_count": 42,
   "id": "d328447b-3a50-4651-a431-9edc17733cf5",
   "metadata": {},
   "outputs": [
    {
     "data": {
      "text/plain": [
       "Timestamp('2024-02-12 13:18:37.731743')"
      ]
     },
     "execution_count": 42,
     "metadata": {},
     "output_type": "execute_result"
    }
   ],
   "source": [
    "\n",
    "current"
   ]
  },
  {
   "cell_type": "code",
   "execution_count": 43,
   "id": "833004bd-1be2-41a0-8b4d-c59018172dfd",
   "metadata": {},
   "outputs": [
    {
     "data": {
      "text/plain": [
       "pandas._libs.tslibs.timestamps.Timestamp"
      ]
     },
     "execution_count": 43,
     "metadata": {},
     "output_type": "execute_result"
    }
   ],
   "source": [
    "\n",
    "type(current)"
   ]
  },
  {
   "cell_type": "code",
   "execution_count": 44,
   "id": "f568870b-6b21-47a0-a78b-37da7c47ae36",
   "metadata": {},
   "outputs": [],
   "source": [
    "month = current.month"
   ]
  },
  {
   "cell_type": "code",
   "execution_count": 45,
   "id": "a770e6f5-a0e2-4289-99c8-8a5cb8ee7fb5",
   "metadata": {},
   "outputs": [],
   "source": [
    "\n",
    "year = current.year"
   ]
  },
  {
   "cell_type": "code",
   "execution_count": 46,
   "id": "cadd74e0-4ada-4359-b3c4-906262b21d30",
   "metadata": {},
   "outputs": [
    {
     "name": "stdout",
     "output_type": "stream",
     "text": [
      "Current Month : 2\n",
      "Current Year : 2024\n"
     ]
    }
   ],
   "source": [
    "print(\"Current Month : {}\".format(month))\n",
    "print(\"Current Year : {}\".format(year))\n"
   ]
  },
  {
   "cell_type": "code",
   "execution_count": 47,
   "id": "b95784cf-7df4-4c92-bcfd-5f87f46b6ae4",
   "metadata": {},
   "outputs": [],
   "source": [
    "#Q8. Write a Python program that takes in two dates as input (in the format YYYY-MM-DD) and calculates the difference between them in days, hours, and minutes using Pandas time delta. The program should prompt the user to enter the dates and display the result."
   ]
  },
  {
   "cell_type": "code",
   "execution_count": 48,
   "id": "13f7c52b-34ac-4494-886a-e34b92f96e9a",
   "metadata": {},
   "outputs": [
    {
     "name": "stdin",
     "output_type": "stream",
     "text": [
      "Enter the start date (YYYY-MM-DD):  2022\n",
      "Enter the end date (YYYY-MM-DD):  2023.11.10\n"
     ]
    },
    {
     "name": "stdout",
     "output_type": "stream",
     "text": [
      "Time difference: 678 days, 0 hours, and 0 minutes.\n"
     ]
    }
   ],
   "source": [
    "def time_difference_func(start_date, end_date):\n",
    "    \n",
    "    try:\n",
    "        start_timestamp = pd.Timestamp(start_date)\n",
    "        end_timestamp = pd.Timestamp(end_date)\n",
    "    \n",
    "        time_difference = end_timestamp - start_timestamp\n",
    "\n",
    "        # Extract days, hours, and minutes from the timedelta\n",
    "        days = time_difference.days\n",
    "        hours = time_difference.seconds // 3600\n",
    "        minutes = (time_difference.seconds % 3600) // 60\n",
    "        return days, hours, minutes\n",
    "    except Exception as e:\n",
    "        print(f\"Error: {e}\")\n",
    "\n",
    "\n",
    "# Prompt the user to enter two dates in the format YYYY-MM-DD\n",
    "start_date_input = input(\"Enter the start date (YYYY-MM-DD): \")\n",
    "end_date_input = input(\"Enter the end date (YYYY-MM-DD): \")\n",
    "\n",
    "\n",
    "days_diff, hours_diff, minutes_diff = time_difference_func(start_date_input, end_date_input)\n",
    "\n",
    "print(f\"Time difference: {days_diff} days, {hours_diff} hours, and {minutes_diff} minutes.\")"
   ]
  },
  {
   "cell_type": "code",
   "execution_count": 49,
   "id": "e818c488-5e4c-49d2-a2e8-792eecd42cbc",
   "metadata": {},
   "outputs": [],
   "source": [
    "#Q9. Write a Python program that reads a CSV file containing categorical data and converts a specified column to a categorical data type. The program should prompt the user to enter the file path, column name, and category order, and then display the sorted data.\n"
   ]
  },
  {
   "cell_type": "code",
   "execution_count": 50,
   "id": "f340929b-afa4-4ca9-9cd0-37e990003c52",
   "metadata": {},
   "outputs": [],
   "source": [
    "data = pd.DataFrame({\"Name\":[\"Rachit\",\"Yomil\",\"Jayan\",\"Pratham\",\"Malik\",\"Sam\",\"Khushi\",\"Sakshi\"] , \"Gender\":['M','M','M','M','M','M','F','F'],\"Grade\":['A','B','A','B','C','C','A','C']})\n",
    "\n",
    "data.to_csv(\"marks.csv\",index=False)"
   ]
  },
  {
   "cell_type": "code",
   "execution_count": 51,
   "id": "c92807e9-c2da-4be4-88c4-2297b0e738fb",
   "metadata": {},
   "outputs": [
    {
     "name": "stdin",
     "output_type": "stream",
     "text": [
      "Enter the CSV file path:  sorted data\n",
      "Enter the column name to convert to categorical:  3\n",
      "Enter the category order (comma-separated values):  ,\n"
     ]
    },
    {
     "name": "stdout",
     "output_type": "stream",
     "text": [
      "Error: [Errno 2] No such file or directory: 'sorted data'\n",
      "\n",
      "Sorted Data:\n",
      "None\n"
     ]
    }
   ],
   "source": [
    "def convert_to_categorical_and_sort(file_path, column_name, category_order):\n",
    "    try:\n",
    "        df = pd.read_csv(file_path)\n",
    "        df[column_name] = pd.Categorical(df[column_name], categories=category_order, ordered=True)\n",
    "        sorted_df = df.sort_values(by=column_name)\n",
    "        return sorted_df\n",
    "    except Exception as e :\n",
    "        print(f\"Error: {e}\")\n",
    "\n",
    "\n",
    "if __name__ == \"__main__\":\n",
    "    file_path = input(\"Enter the CSV file path: \")\n",
    "    column_name = input(\"Enter the column name to convert to categorical: \")\n",
    "    category_order = input(\"Enter the category order (comma-separated values): \")\n",
    "    category_order = [cat.strip() for cat in category_order.split(\",\")]\n",
    "\n",
    "    sorted_data = convert_to_categorical_and_sort(file_path, column_name, category_order)\n",
    "    print(\"\\nSorted Data:\")\n",
    "    print(sorted_data)"
   ]
  },
  {
   "cell_type": "code",
   "execution_count": 52,
   "id": "6cec68cd-1381-4ba1-993d-6717af56cc16",
   "metadata": {},
   "outputs": [],
   "source": [
    "#Q10. Write a Python program that reads a CSV file containing sales data for different products and visualizes the data using a stacked bar chart to show the sales of each product category over time. The program should prompt the user to enter the file path and display the chart."
   ]
  },
  {
   "cell_type": "code",
   "execution_count": 53,
   "id": "20ad21a3-4f84-4297-a41b-9c641c1ea9b7",
   "metadata": {},
   "outputs": [],
   "source": [
    "data = pd.DataFrame({\"Date\":[\"20-07-2023\",\"20-07-2023\",\"20-07-2023\",\"21-07-2023\",\"21-07-2023\",\"22-07-2023\",\"23-07-2023\",\"24-07-2023\"] , \"Product Category\":['TV','Fridge','Washing Machine','Washing Machine','TV','Fridge','TV','Washing Machine'],\"Units Sold\":['44','20','18','50','30','35','42','54']})\n",
    "\n",
    "data.to_csv(\"salesdata.csv\",index=False)"
   ]
  },
  {
   "cell_type": "code",
   "execution_count": null,
   "id": "5b3f4b47-8c92-405c-9951-a2c830700ec6",
   "metadata": {},
   "outputs": [],
   "source": [
    "import pandas as pd\n",
    "import matplotlib.pyplot as plt\n",
    "\n",
    "def visualize_sales_data(file_path):\n",
    "    try:\n",
    "        # Read the CSV file into a pandas DataFrame\n",
    "        df = pd.read_csv(file_path)\n",
    "\n",
    "        # Convert the 'Date' column to datetime\n",
    "        df['Date'] = pd.to_datetime(df['Date'],dayfirst=True)\n",
    "\n",
    "        # Group the data by product category and date, and sum the sales\n",
    "        grouped_data = df.groupby(['Product Category', 'Date']).sum().reset_index()\n",
    "        \n",
    "        # Pivot the data to create a matrix of sales by product and date\n",
    "        df_pivot = grouped_data.pivot(index='Date', columns='Product Category', values='Units Sold')\n",
    "\n",
    "        # Plot stacked barchart overtime\n",
    "        df_pivot.plot(kind='bar',\n",
    "                  stacked=True,\n",
    "                  title='Sales of Each Product Category Over Time', \n",
    "                  xlabel='Date',\n",
    "                  ylabel='Units Sols',\n",
    "                  figsize=(12,6))\n",
    "        plt.legend(title='Product Category')\n",
    "        plt.show()\n",
    "\n",
    "    except Exception as e:\n",
    "        print(f\"Error: {e}\")\n",
    "\n",
    "if __name__ == \"__main__\":\n",
    "    file_path = input(\"Enter the file path of the CSV file containing sales data: \")\n",
    "    visualize_sales_data(file_path)"
   ]
  },
  {
   "cell_type": "code",
   "execution_count": null,
   "id": "4ffee694-6ba7-4fe3-af2d-295820cc0900",
   "metadata": {},
   "outputs": [],
   "source": []
  }
 ],
 "metadata": {
  "kernelspec": {
   "display_name": "Python 3 (ipykernel)",
   "language": "python",
   "name": "python3"
  },
  "language_info": {
   "codemirror_mode": {
    "name": "ipython",
    "version": 3
   },
   "file_extension": ".py",
   "mimetype": "text/x-python",
   "name": "python",
   "nbconvert_exporter": "python",
   "pygments_lexer": "ipython3",
   "version": "3.10.8"
  }
 },
 "nbformat": 4,
 "nbformat_minor": 5
}
